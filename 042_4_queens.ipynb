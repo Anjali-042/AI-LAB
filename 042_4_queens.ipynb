{
  "nbformat": 4,
  "nbformat_minor": 0,
  "metadata": {
    "colab": {
      "provenance": [],
      "authorship_tag": "ABX9TyPEEst5/jJ5zlPOIbBHgt3r",
      "include_colab_link": true
    },
    "kernelspec": {
      "name": "python3",
      "display_name": "Python 3"
    },
    "language_info": {
      "name": "python"
    }
  },
  "cells": [
    {
      "cell_type": "markdown",
      "metadata": {
        "id": "view-in-github",
        "colab_type": "text"
      },
      "source": [
        "<a href=\"https://colab.research.google.com/github/Anjali-042/AI-LAB/blob/main/042_4_queens.ipynb\" target=\"_parent\"><img src=\"https://colab.research.google.com/assets/colab-badge.svg\" alt=\"Open In Colab\"/></a>"
      ]
    },
    {
      "cell_type": "code",
      "execution_count": 17,
      "metadata": {
        "colab": {
          "base_uri": "https://localhost:8080/"
        },
        "id": "U41mq3PldxNw",
        "outputId": "1370505a-3e1e-4eb0-a328-de92c354e2a5"
      },
      "outputs": [
        {
          "output_type": "stream",
          "name": "stdout",
          "text": [
            "Enter initial state as 4 space-separated integers (0 to 3): 0 2 3 1\n",
            "\n",
            "Iteration 0\n",
            "Current State: [0, 2, 3, 1], Cost: 1\n",
            "Neighbour: [2, 0, 3, 1], Cost: 0\n",
            "Neighbour: [3, 2, 0, 1], Cost: 2\n",
            "Neighbour: [1, 2, 3, 0], Cost: 4\n",
            "Neighbour: [0, 3, 2, 1], Cost: 4\n",
            "Neighbour: [0, 1, 3, 2], Cost: 2\n",
            "Neighbour: [0, 2, 1, 3], Cost: 2\n",
            "\n",
            "Final Results\n",
            "Initial State: [0, 2, 3, 1]\n",
            "Final State (Solution): [2, 0, 3, 1]\n",
            "Final Cost (Attacking Pairs): 0\n",
            "Solution found!\n"
          ]
        }
      ],
      "source": [
        "N = 4\n",
        "\n",
        "\n",
        "def calculateCost(state):\n",
        "    attacking_pairs = 0\n",
        "    for i in range(N):\n",
        "        for j in range(i + 1, N):\n",
        "            if state[i] == state[j] or abs(state[i] - state[j]) == abs(i - j):\n",
        "                attacking_pairs += 1\n",
        "    return attacking_pairs\n",
        "\n",
        "\n",
        "def getNeighbours(state):\n",
        "    neighbours = []\n",
        "    for i in range(N):\n",
        "        for j in range(i + 1, N):\n",
        "            new_state = state[:]\n",
        "            new_state[i], new_state[j] = new_state[j], new_state[i]\n",
        "            neighbours.append(new_state)\n",
        "    return neighbours\n",
        "\n",
        "\n",
        "def hillClimbing(initial_state):\n",
        "    current_state = initial_state\n",
        "    current_cost = calculateCost(current_state)\n",
        "\n",
        "    iteration = 0\n",
        "    while True:\n",
        "        print(f\"\\nIteration {iteration}\")\n",
        "        print(f\"Current State: {current_state}, Cost: {current_cost}\")\n",
        "\n",
        "        neighbours = getNeighbours(current_state)\n",
        "        next_state = current_state\n",
        "        next_cost = current_cost\n",
        "\n",
        "\n",
        "        for neighbour in neighbours:\n",
        "            cost = calculateCost(neighbour)\n",
        "            print(f\"Neighbour: {neighbour}, Cost: {cost}\")\n",
        "            if cost < next_cost:\n",
        "                next_state = neighbour\n",
        "                next_cost = cost\n",
        "\n",
        "\n",
        "        if next_cost == current_cost:\n",
        "            break\n",
        "        else:\n",
        "            current_state, current_cost = next_state, next_cost\n",
        "\n",
        "\n",
        "        if current_cost == 0:\n",
        "            break\n",
        "\n",
        "        iteration += 1\n",
        "\n",
        "    return current_state, current_cost\n",
        "\n",
        "\n",
        "initial_state = list(map(int, input(\"Enter initial state as 4 space-separated integers (0 to 3): \").split()))\n",
        "solution_state, solution_cost = hillClimbing(initial_state)\n",
        "\n",
        "\n",
        "print(\"\\nFinal Results\")\n",
        "print(\"Initial State:\", initial_state)\n",
        "print(\"Final State (Solution):\", solution_state)\n",
        "print(\"Final Cost (Attacking Pairs):\", solution_cost)\n",
        "\n",
        "if solution_cost == 0:\n",
        "    print(\"Solution found!\")\n",
        "else:\n",
        "    print(\"Local optimum reached, but no solution.\")"
      ]
    }
  ]
}