{
  "nbformat": 4,
  "nbformat_minor": 0,
  "metadata": {
    "colab": {
      "provenance": [],
      "authorship_tag": "ABX9TyMteKUERB8j2xFkB3IZ9vin",
      "include_colab_link": true
    },
    "kernelspec": {
      "name": "python3",
      "display_name": "Python 3"
    },
    "language_info": {
      "name": "python"
    }
  },
  "cells": [
    {
      "cell_type": "markdown",
      "metadata": {
        "id": "view-in-github",
        "colab_type": "text"
      },
      "source": [
        "<a href=\"https://colab.research.google.com/github/Anjali-042/AI-LAB/blob/main/Simulated_Annealing.ipynb\" target=\"_parent\"><img src=\"https://colab.research.google.com/assets/colab-badge.svg\" alt=\"Open In Colab\"/></a>"
      ]
    },
    {
      "cell_type": "code",
      "execution_count": 2,
      "metadata": {
        "colab": {
          "base_uri": "https://localhost:8080/"
        },
        "id": "JTgSeNn7ZB7B",
        "outputId": "e8f6bf7b-0d2d-4b53-b9cf-ab9db3094183"
      },
      "outputs": [
        {
          "output_type": "stream",
          "name": "stdout",
          "text": [
            "Iteration 1: Best Solution = 4.14585509215717, Best Objective = 17.188114445165535\n",
            "Iteration 2: Best Solution = 4.14585509215717, Best Objective = 17.188114445165535\n",
            "Iteration 3: Best Solution = 4.14585509215717, Best Objective = 17.188114445165535\n",
            "Iteration 4: Best Solution = 4.14585509215717, Best Objective = 17.188114445165535\n",
            "Iteration 5: Best Solution = 4.14585509215717, Best Objective = 17.188114445165535\n",
            "Iteration 6: Best Solution = 4.14585509215717, Best Objective = 17.188114445165535\n",
            "Iteration 7: Best Solution = 4.14585509215717, Best Objective = 17.188114445165535\n",
            "Iteration 8: Best Solution = 4.14585509215717, Best Objective = 17.188114445165535\n",
            "Iteration 9: Best Solution = 4.14585509215717, Best Objective = 17.188114445165535\n",
            "Iteration 10: Best Solution = 4.14585509215717, Best Objective = 17.188114445165535\n",
            "\n",
            "Final Best Solution: 4.14585509215717\n",
            "Final Best Objective: 17.188114445165535\n"
          ]
        }
      ],
      "source": [
        "import math\n",
        "import random\n",
        "\n",
        "def simulated_annealing(objective_function, bounds, max_iterations, initial_temperature, cooling_rate):\n",
        "\n",
        "    # Initialize the solution\n",
        "    current_solution = random.uniform(bounds[0], bounds[1])\n",
        "    current_objective = objective_function(current_solution)\n",
        "    best_solution = current_solution\n",
        "    best_objective = current_objective\n",
        "\n",
        "    # Current temperature\n",
        "    temperature = initial_temperature\n",
        "\n",
        "    for iteration in range(max_iterations):\n",
        "        # Generate a new candidate solution\n",
        "        candidate_solution = current_solution + random.uniform(-1, 1)\n",
        "\n",
        "        # Ensure the candidate solution is within bounds\n",
        "        candidate_solution = max(bounds[0], min(bounds[1], candidate_solution))\n",
        "        candidate_objective = objective_function(candidate_solution)\n",
        "\n",
        "        # Calculate the acceptance probability\n",
        "        delta_objective = candidate_objective - current_objective\n",
        "        acceptance_probability = math.exp(-delta_objective / temperature) if delta_objective > 0 else 1.0\n",
        "\n",
        "        # Decide whether to accept the new candidate\n",
        "        if random.random() < acceptance_probability:\n",
        "            current_solution = candidate_solution\n",
        "            current_objective = candidate_objective\n",
        "\n",
        "            # Update the best solution found so far\n",
        "            if current_objective < best_objective:\n",
        "                best_solution = current_solution\n",
        "                best_objective = current_objective\n",
        "\n",
        "        # Cool down the temperature\n",
        "        temperature *= cooling_rate\n",
        "\n",
        "        # Optional: Print progress\n",
        "        print(f\"Iteration {iteration + 1}: Best Solution = {best_solution}, Best Objective = {best_objective}\")\n",
        "\n",
        "        # Stop early if the temperature is very low\n",
        "        if temperature < 1e-8:\n",
        "            break\n",
        "\n",
        "    return best_solution, best_objective\n",
        "\n",
        "\n",
        "# Example usage:\n",
        "if __name__ == \"__main__\":\n",
        "    # Define the objective function\n",
        "    def objective_function(x):\n",
        "        return x ** 2\n",
        "\n",
        "    # Define the bounds and parameters\n",
        "    bounds = (-10, 10)\n",
        "    max_iterations = 10\n",
        "    initial_temperature = 100.0\n",
        "    cooling_rate = 0.95\n",
        "\n",
        "    # Run the simulated annealing algorithm\n",
        "    best_solution, best_objective = simulated_annealing(objective_function, bounds, max_iterations, initial_temperature, cooling_rate)\n",
        "\n",
        "    print(f\"\\nFinal Best Solution: {best_solution}\")\n",
        "    print(f\"Final Best Objective: {best_objective}\")\n"
      ]
    }
  ]
}