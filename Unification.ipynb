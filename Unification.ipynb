{
  "nbformat": 4,
  "nbformat_minor": 0,
  "metadata": {
    "colab": {
      "provenance": [],
      "authorship_tag": "ABX9TyOgXvTaa59uzPjz71teeb5F",
      "include_colab_link": true
    },
    "kernelspec": {
      "name": "python3",
      "display_name": "Python 3"
    },
    "language_info": {
      "name": "python"
    }
  },
  "cells": [
    {
      "cell_type": "markdown",
      "metadata": {
        "id": "view-in-github",
        "colab_type": "text"
      },
      "source": [
        "<a href=\"https://colab.research.google.com/github/Anjali-042/AI-LAB/blob/main/Unification.ipynb\" target=\"_parent\"><img src=\"https://colab.research.google.com/assets/colab-badge.svg\" alt=\"Open In Colab\"/></a>"
      ]
    },
    {
      "cell_type": "code",
      "execution_count": null,
      "metadata": {
        "colab": {
          "base_uri": "https://localhost:8080/"
        },
        "id": "YyS4JkS-lvB8",
        "outputId": "f5ab2388-66f1-4a95-f579-65a372ccd5b7"
      },
      "outputs": [
        {
          "output_type": "stream",
          "name": "stdout",
          "text": [
            "Unification successful. Substitutions: {'X': 'a', 'Y': 'b'}\n"
          ]
        }
      ],
      "source": [
        "class UnificationError(Exception):\n",
        "    pass\n",
        "\n",
        "def unify(term1, term2, substitutions=None):\n",
        "    if substitutions is None:\n",
        "        substitutions = {}\n",
        "\n",
        "    # If both terms are the same, there's nothing to do\n",
        "    if term1 == term2:\n",
        "        return substitutions\n",
        "\n",
        "    # If one of the terms is a variable, try to unify it with the other term\n",
        "    elif isinstance(term1, str) and term1.isupper():\n",
        "        return unify_var(term1, term2, substitutions)\n",
        "    elif isinstance(term2, str) and term2.isupper():\n",
        "        return unify_var(term2, term1, substitutions)\n",
        "\n",
        "    # If both terms are lists (complex terms), unify their components\n",
        "    elif isinstance(term1, list) and isinstance(term2, list):\n",
        "        if len(term1) != len(term2):\n",
        "            raise UnificationError(f\"Cannot unify terms of different lengths: {term1} and {term2}\")\n",
        "        for subterm1, subterm2 in zip(term1, term2):\n",
        "            substitutions = unify(subterm1, subterm2, substitutions)\n",
        "        return substitutions\n",
        "\n",
        "    # If the terms are neither the same nor variables, they cannot be unified\n",
        "    else:\n",
        "        raise UnificationError(f\"Cannot unify {term1} with {term2}\")\n",
        "\n",
        "def unify_var(var, term, substitutions):\n",
        "    if var in substitutions:\n",
        "        return unify(substitutions[var], term, substitutions)\n",
        "\n",
        "    # Avoid circular unification\n",
        "    if term == var:\n",
        "        return substitutions\n",
        "\n",
        "    # Apply the substitution\n",
        "    substitutions[var] = term\n",
        "    return substitutions\n",
        "\n",
        "# Example usage:\n",
        "try:\n",
        "    term1 = ['f', 'X', ['g', 'Y']]\n",
        "    term2 = ['f', 'a', ['g', 'b']]\n",
        "    substitutions = unify(term1, term2)\n",
        "    print(\"Unification successful. Substitutions:\", substitutions)\n",
        "except UnificationError as e:\n",
        "    print(\"Unification failed:\", e)\n"
      ]
    }
  ]
}