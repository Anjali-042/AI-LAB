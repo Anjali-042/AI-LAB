{
  "nbformat": 4,
  "nbformat_minor": 0,
  "metadata": {
    "colab": {
      "provenance": [],
      "authorship_tag": "ABX9TyM9fzUZNL1E8+cW/xhqy+hx",
      "include_colab_link": true
    },
    "kernelspec": {
      "name": "python3",
      "display_name": "Python 3"
    },
    "language_info": {
      "name": "python"
    }
  },
  "cells": [
    {
      "cell_type": "markdown",
      "metadata": {
        "id": "view-in-github",
        "colab_type": "text"
      },
      "source": [
        "<a href=\"https://colab.research.google.com/github/Anjali-042/AI-LAB/blob/main/resolution.ipynb\" target=\"_parent\"><img src=\"https://colab.research.google.com/assets/colab-badge.svg\" alt=\"Open In Colab\"/></a>"
      ]
    },
    {
      "cell_type": "code",
      "execution_count": 3,
      "metadata": {
        "colab": {
          "base_uri": "https://localhost:8080/",
          "height": 106
        },
        "id": "A21ixBisyju-",
        "outputId": "6a9e98b2-5353-4de7-9629-9c64c87665ec"
      },
      "outputs": [
        {
          "output_type": "error",
          "ename": "SyntaxError",
          "evalue": "invalid syntax. Perhaps you forgot a comma? (<ipython-input-3-8e5b8ec6bd21>, line 57)",
          "traceback": [
            "\u001b[0;36m  File \u001b[0;32m\"<ipython-input-3-8e5b8ec6bd21>\"\u001b[0;36m, line \u001b[0;32m57\u001b[0m\n\u001b[0;31m    {-mother(x,y) OR parent(x,y)},  # (¬p OR r)\u001b[0m\n\u001b[0m     ^\u001b[0m\n\u001b[0;31mSyntaxError\u001b[0m\u001b[0;31m:\u001b[0m invalid syntax. Perhaps you forgot a comma?\n"
          ]
        }
      ],
      "source": [
        "# A function to perform the resolution operation between two clauses\n",
        "def resolve(clause1, clause2):\n",
        "    \"\"\"\n",
        "    Resolves two clauses and returns the new clause formed by resolving them.\n",
        "    If no resolution is possible, returns None.\n",
        "    \"\"\"\n",
        "    resolved = set()\n",
        "    for literal in clause1:\n",
        "        if -literal in clause2:\n",
        "            # If complementary literals are found (e.g., 'p' and '-p'), remove them and merge the rest\n",
        "            new_clause = (clause1 - {literal}) | (clause2 - {-literal})\n",
        "            resolved.update(new_clause)\n",
        "            break  # Once we find the resolvent, no need to check further literals\n",
        "    else:\n",
        "        return None  # No resolvable pair found\n",
        "    return resolved\n",
        "\n",
        "# Function to build a resolution tree\n",
        "def build_resolution_tree(clauses):\n",
        "    \"\"\"\n",
        "    Builds a resolution tree from a list of clauses.\n",
        "    It returns a resolution tree as a dictionary where keys are the resolvent clauses and\n",
        "    values are the list of parent clauses that generated it.\n",
        "    \"\"\"\n",
        "    tree = {}\n",
        "    queue = list(clauses)\n",
        "\n",
        "    while queue:\n",
        "        clause1 = queue.pop(0)  # Get the first clause\n",
        "\n",
        "        for clause2 in queue:  # Compare it with the rest\n",
        "            resolvent = resolve(clause1, clause2)\n",
        "\n",
        "            if resolvent:\n",
        "                if frozenset(resolvent) not in tree:\n",
        "                    tree[frozenset(resolvent)] = [(frozenset(clause1), frozenset(clause2))]\n",
        "                    queue.append(resolvent)  # Add the new resolvent to the queue\n",
        "                else:\n",
        "                    tree[frozenset(resolvent)].append((frozenset(clause1), frozenset(clause2)))\n",
        "\n",
        "    return tree\n",
        "\n",
        "# A helper function to visualize the resolution tree\n",
        "def print_resolution_tree(tree):\n",
        "    \"\"\"\n",
        "    Prints the resolution tree in a readable format.\n",
        "    \"\"\"\n",
        "    for resolvent, parents in tree.items():\n",
        "        print(f\"Resolvent: {resolvent}\")\n",
        "        for parent1, parent2 in parents:\n",
        "            print(f\"  Parent clauses: {parent1} and {parent2}\")\n",
        "        print()\n",
        "\n",
        "# Example clauses in Conjunctive Normal Form (CNF)\n",
        "clauses = [\n",
        "    {mother(leela,Oshin)},   # (p OR q)\n",
        "    {-mother(x,y) OR parent(x,y)},  # (¬p OR r)\n",
        "    {-parent(x,y) OR alive(x) OR older(x,y)},\n",
        "    {alive(leela)},\n",
        "    {-older(leela,Oshin)}# (¬q OR ¬r)\n",
        "]\n",
        "\n",
        "# Build the resolution tree\n",
        "tree = build_resolution_tree(clauses)\n",
        "\n",
        "# Print the resolution tree\n",
        "print_resolution_tree(tree)\n"
      ]
    },
    {
      "cell_type": "code",
      "source": [
        "from typing import List, Tuple\n",
        "\n",
        "def is_complementary(clause1: set, clause2: set) -> Tuple[bool, set]:\n",
        "    \"\"\"\n",
        "    Check if two clauses are complementary and return the resolved clause if they are.\n",
        "    \"\"\"\n",
        "    for literal in clause1:\n",
        "        if f\"~{literal}\" in clause2:\n",
        "            resolved = clause1.union(clause2)\n",
        "            resolved.discard(literal)\n",
        "            resolved.discard(f\"~{literal}\")\n",
        "            return True, resolved\n",
        "        elif literal.startswith(\"~\") and literal[1:] in clause2:\n",
        "            resolved = clause1.union(clause2)\n",
        "            resolved.discard(literal)\n",
        "            resolved.discard(literal[1:])\n",
        "            return True, resolved\n",
        "    return False, set()\n",
        "\n",
        "def resolution(kb: List[set], goal: set) -> Tuple[bool, List[Tuple[set, List[int]]]]:\n",
        "    \"\"\"\n",
        "    Perform resolution and build the proof tree.\n",
        "    \"\"\"\n",
        "    proof_tree = []\n",
        "    clauses = kb + [goal]  # Add negated goal to the KB\n",
        "    new_clauses = []\n",
        "\n",
        "    while True:\n",
        "        # Generate new pairs of clauses\n",
        "        pairs = [(clauses[i], clauses[j], (i, j)) for i in range(len(clauses)) for j in range(i + 1, len(clauses))]\n",
        "\n",
        "        for clause1, clause2, (i, j) in pairs:\n",
        "            complementary, resolved_clause = is_complementary(clause1, clause2)\n",
        "            if complementary:\n",
        "                if not resolved_clause:  # Empty clause found\n",
        "                    proof_tree.append((resolved_clause, [i, j]))\n",
        "                    return True, proof_tree\n",
        "                if resolved_clause not in clauses and resolved_clause not in new_clauses:\n",
        "                    new_clauses.append(resolved_clause)\n",
        "                    proof_tree.append((resolved_clause, [i, j]))\n",
        "\n",
        "        if not new_clauses:  # No progress, resolution failed\n",
        "            return False, proof_tree\n",
        "\n",
        "        clauses.extend(new_clauses)\n",
        "        new_clauses = []\n",
        "\n",
        "# Example case study\n",
        "if __name__ == \"__main__\":\n",
        "    # Knowledge Base (KB) in CNF format\n",
        "    kb = [\n",
        "        {\"P\", \"Q\"},       # Clause 1: P ∨ Q\n",
        "        {\"~P\", \"R\"},      # Clause 2: ¬P ∨ R\n",
        "        {\"~R\"},           # Clause 3: ¬R\n",
        "    ]\n",
        "    goal = {\"~Q\"}  # Negated goal: ¬Q\n",
        "\n",
        "    success, proof_tree = resolution(kb, goal)\n",
        "    if success:\n",
        "        print(\"PROVED\")\n",
        "    else:\n",
        "        print(\"CAN'T BE PROVED\")\n",
        "\n",
        "    print(\"\\nProof Tree:\")\n",
        "    for i, (clause, parents) in enumerate(proof_tree):\n",
        "        print(f\"Step {i + 1}: {clause} from {parents}\")\n"
      ],
      "metadata": {
        "colab": {
          "base_uri": "https://localhost:8080/"
        },
        "id": "YUfZeCHXz5w6",
        "outputId": "5b0731ae-39bd-461f-ffae-5c2667adae0f"
      },
      "execution_count": 8,
      "outputs": [
        {
          "output_type": "stream",
          "name": "stdout",
          "text": [
            "PROVED\n",
            "\n",
            "Proof Tree:\n",
            "Step 1: {'R', 'Q'} from [0, 1]\n",
            "Step 2: {'P'} from [0, 3]\n",
            "Step 3: {'~P'} from [1, 2]\n",
            "Step 4: {'Q'} from [0, 6]\n",
            "Step 5: {'R'} from [1, 5]\n",
            "Step 6: set() from [5, 6]\n"
          ]
        }
      ]
    }
  ]
}