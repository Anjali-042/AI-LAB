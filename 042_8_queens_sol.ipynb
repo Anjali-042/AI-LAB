{
  "nbformat": 4,
  "nbformat_minor": 0,
  "metadata": {
    "colab": {
      "provenance": [],
      "authorship_tag": "ABX9TyOklf4BhW1lkQmnGNATv3Nn",
      "include_colab_link": true
    },
    "kernelspec": {
      "name": "python3",
      "display_name": "Python 3"
    },
    "language_info": {
      "name": "python"
    }
  },
  "cells": [
    {
      "cell_type": "markdown",
      "metadata": {
        "id": "view-in-github",
        "colab_type": "text"
      },
      "source": [
        "<a href=\"https://colab.research.google.com/github/Anjali-042/AI-LAB/blob/main/042_8_queens_sol.ipynb\" target=\"_parent\"><img src=\"https://colab.research.google.com/assets/colab-badge.svg\" alt=\"Open In Colab\"/></a>"
      ]
    },
    {
      "cell_type": "code",
      "execution_count": 9,
      "metadata": {
        "colab": {
          "base_uri": "https://localhost:8080/"
        },
        "id": "vyrxVAareTKl",
        "outputId": "f6502219-7b15-4e00-a045-cbcaa92a9d29"
      },
      "outputs": [
        {
          "output_type": "stream",
          "name": "stdout",
          "text": [
            "Enter initial state as 4 space-separated integers (0 to 7): 1 7 5 3 2 0 6 4\n",
            "\n",
            "Iteration 0\n",
            "Current State: [1, 7, 5, 3, 2, 0, 6, 4], Cost: 2\n",
            "Neighbour: [7, 1, 5, 3, 2, 0, 6, 4], Cost: 5\n",
            "Neighbour: [5, 7, 1, 3, 2, 0, 6, 4], Cost: 3\n",
            "Neighbour: [3, 7, 5, 1, 2, 0, 6, 4], Cost: 2\n",
            "Neighbour: [2, 7, 5, 3, 1, 0, 6, 4], Cost: 3\n",
            "Neighbour: [0, 7, 5, 3, 2, 1, 6, 4], Cost: 6\n",
            "Neighbour: [6, 7, 5, 3, 2, 0, 1, 4], Cost: 6\n",
            "Neighbour: [4, 7, 5, 3, 2, 0, 6, 1], Cost: 3\n",
            "Neighbour: [1, 5, 7, 3, 2, 0, 6, 4], Cost: 4\n",
            "Neighbour: [1, 3, 5, 7, 2, 0, 6, 4], Cost: 0\n",
            "Neighbour: [1, 2, 5, 3, 7, 0, 6, 4], Cost: 4\n",
            "Neighbour: [1, 0, 5, 3, 2, 7, 6, 4], Cost: 4\n",
            "Neighbour: [1, 6, 5, 3, 2, 0, 7, 4], Cost: 3\n",
            "Neighbour: [1, 4, 5, 3, 2, 0, 6, 7], Cost: 6\n",
            "Neighbour: [1, 7, 3, 5, 2, 0, 6, 4], Cost: 3\n",
            "Neighbour: [1, 7, 2, 3, 5, 0, 6, 4], Cost: 4\n",
            "Neighbour: [1, 7, 0, 3, 2, 5, 6, 4], Cost: 5\n",
            "Neighbour: [1, 7, 6, 3, 2, 0, 5, 4], Cost: 3\n",
            "Neighbour: [1, 7, 4, 3, 2, 0, 6, 5], Cost: 6\n",
            "Neighbour: [1, 7, 5, 2, 3, 0, 6, 4], Cost: 3\n",
            "Neighbour: [1, 7, 5, 0, 2, 3, 6, 4], Cost: 3\n",
            "Neighbour: [1, 7, 5, 6, 2, 0, 3, 4], Cost: 3\n",
            "Neighbour: [1, 7, 5, 4, 2, 0, 6, 3], Cost: 2\n",
            "Neighbour: [1, 7, 5, 3, 0, 2, 6, 4], Cost: 3\n",
            "Neighbour: [1, 7, 5, 3, 6, 0, 2, 4], Cost: 1\n",
            "Neighbour: [1, 7, 5, 3, 4, 0, 6, 2], Cost: 5\n",
            "Neighbour: [1, 7, 5, 3, 2, 6, 0, 4], Cost: 5\n",
            "Neighbour: [1, 7, 5, 3, 2, 4, 6, 0], Cost: 3\n",
            "Neighbour: [1, 7, 5, 3, 2, 0, 4, 6], Cost: 2\n",
            "\n",
            "Final Results\n",
            "Initial State: [1, 7, 5, 3, 2, 0, 6, 4]\n",
            "Final State (Solution): [1, 3, 5, 7, 2, 0, 6, 4]\n",
            "Final Cost (Attacking Pairs): 0\n",
            "Solution found!\n"
          ]
        }
      ],
      "source": [
        "N = 8\n",
        "\n",
        "\n",
        "def calculateCost(state):\n",
        "    attacking_pairs = 0\n",
        "    for i in range(N):\n",
        "        for j in range(i + 1, N):\n",
        "            if state[i] == state[j] or abs(state[i] - state[j]) == abs(i - j):\n",
        "                attacking_pairs += 1\n",
        "    return attacking_pairs\n",
        "\n",
        "\n",
        "def getNeighbours(state):\n",
        "    neighbours = []\n",
        "    for i in range(N):\n",
        "        for j in range(i + 1, N):\n",
        "            new_state = state[:]\n",
        "            new_state[i], new_state[j] = new_state[j], new_state[i]\n",
        "            neighbours.append(new_state)\n",
        "    return neighbours\n",
        "\n",
        "\n",
        "def hillClimbing(initial_state):\n",
        "    current_state = initial_state\n",
        "    current_cost = calculateCost(current_state)\n",
        "\n",
        "    iteration = 0\n",
        "    while True:\n",
        "        print(f\"\\nIteration {iteration}\")\n",
        "        print(f\"Current State: {current_state}, Cost: {current_cost}\")\n",
        "\n",
        "        neighbours = getNeighbours(current_state)\n",
        "        next_state = current_state\n",
        "        next_cost = current_cost\n",
        "\n",
        "\n",
        "        for neighbour in neighbours:\n",
        "            cost = calculateCost(neighbour)\n",
        "            print(f\"Neighbour: {neighbour}, Cost: {cost}\")\n",
        "            if cost < next_cost:\n",
        "                next_state = neighbour\n",
        "                next_cost = cost\n",
        "\n",
        "\n",
        "        if next_cost == current_cost:\n",
        "            break\n",
        "        else:\n",
        "            current_state, current_cost = next_state, next_cost\n",
        "\n",
        "\n",
        "        if current_cost == 0:\n",
        "            break\n",
        "\n",
        "        iteration += 1\n",
        "\n",
        "    return current_state, current_cost\n",
        "\n",
        "\n",
        "initial_state = list(map(int, input(\"Enter initial state as 4 space-separated integers (0 to 7): \").split()))\n",
        "solution_state, solution_cost = hillClimbing(initial_state)\n",
        "\n",
        "\n",
        "print(\"\\nFinal Results\")\n",
        "print(\"Initial State:\", initial_state)\n",
        "print(\"Final State (Solution):\", solution_state)\n",
        "print(\"Final Cost (Attacking Pairs):\", solution_cost)\n",
        "\n",
        "if solution_cost == 0:\n",
        "    print(\"Solution found!\")\n",
        "else:\n",
        "    print(\"Local optimum reached, but no solution.\")"
      ]
    }
  ]
}